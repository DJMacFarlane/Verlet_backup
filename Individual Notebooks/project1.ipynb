{
 "cells": [
  {
   "cell_type": "markdown",
   "id": "28bace66-71db-4444-bc35-ce2c468a9c89",
   "metadata": {},
   "source": [
    "**Verlet integration** is a numerical method used to integrate Newton's equations of motion, which is frequently used to calculate trajectories of particles."
   ]
  },
  {
   "cell_type": "markdown",
   "id": "b739be09-3ec6-4392-97be-f12167c5bcad",
   "metadata": {},
   "source": [
    "$$x^{\\cdot \\cdot}=A(x(t)), \\quad x(t_0)=x_0, x^{\\cdot}=v_0$$\n",
    "Then we can evaluate $x_n=x(t_n)$ at $t_n=t_0+n \\Delta t$ ($\\Delta t>0$)"
   ]
  },
  {
   "cell_type": "markdown",
   "id": "5fcdac8a-4746-4bfe-a4d9-dd4c301bc364",
   "metadata": {},
   "source": [
    "step1: set $$x_1=x_0+v_0\\Delta t +\\frac{1}{2}A(x_0)\\Delta t^2$$\n",
    "step2: for $n=1,2,\\dots$: $$x_{n+1}=2x_n-x_{n-1}+A(x_n)\\Delta t^2$$"
   ]
  },
  {
   "cell_type": "markdown",
   "id": "90bf88fc-f4ad-486c-9aa5-0624df3d5005",
   "metadata": {},
   "source": [
    "Euler's method uses the forward difference approximation to the first derivative in differential equations of order one, Verlet intergration can be seen as using the central difference approximation to the second derivative:\n",
    "$$\\frac{\\Delta ^2 x_n}{\\Delta t^2}=\\frac{\\frac{x_{n+1}-x_n}{\\Delta t}-\\frac{x_n-x_{n-1}}{\\Delta t}}{\\Delta t}=\\frac{x_{n+1}-2x_n+x_{n-1}}{\\Delta t^2}=a_n=A(x_n)$$\n",
    "$$\\implies x_{n+1}=2x_n-x_{n-1}+a_n\\Delta t^2 \\quad \\textrm{where } a_n=A(x_n)$$"
   ]
  },
  {
   "cell_type": "markdown",
   "id": "478541b2-9a4d-49a2-9407-c5142594e4ac",
   "metadata": {
    "tags": []
   },
   "source": [
    "A related, and more commonly used, algorithm is the **velocity Verlet** algorithm. It explicitly incorporates velocity, solving the problem of the first time step in the basic Verlet algorithm:\n",
    "$$x(t+\\Delta t)=x(t)+v(t)\\Delta t+\\frac{1}{2}a(t)\\Delta t^2$$\n",
    "$$v(t+\\Delta t)=v(t)+\\frac{a(t)+a(t+\\Delta t)}{2}\\Delta t$$"
   ]
  },
  {
   "cell_type": "markdown",
   "id": "00e6543c-79fe-4c58-a83f-8282bfd20769",
   "metadata": {
    "tags": []
   },
   "source": [
    "The standard implementation scheme is :\n",
    "\n",
    "step1: $$v(t+\\frac{1}{2}\\Delta t)=v(t)+\\frac{1}{2}a(t)\\Delta t$$\n",
    "\n",
    "step2: $$x(t+\\Delta t)=x(t)+v(t+\\frac{1}{2}\\Delta t)\\Delta t$$\n",
    "\n",
    "step3: Derive $a(t+\\Delta t)$ from the interaction potential using $x(t+\\Delta t)$\n",
    "\n",
    "step4: $$v(t+\\Delta t)=v(t+\\frac{1}{2}\\Delta t)+\\frac{1}{2}a(t+\\Delta t)\\Delta t$$"
   ]
  },
  {
   "cell_type": "markdown",
   "id": "2da5832a-33b9-41af-878c-6ad89f5ca5d4",
   "metadata": {},
   "source": [
    "Eliminating the half-step velocity, it can be shortened to:\n",
    "\n",
    "step1: $$x(t+\\Delta t)=x(t)+v(t)\\Delta t+\\frac{1}{2}a(t)\\Delta t^2$$\n",
    "\n",
    "step2: Derive $a(t+\\Delta t)$ from the interaction potential using $x(t+\\Delta t)$\n",
    "\n",
    "step3: $$v(t+\\Delta t)=v(t)+\\frac{1}{2} \\Big(a(t)+a(t+\\Delta t)\\Big)\\Delta t$$\n",
    "\n",
    "However, it assumes that acceleration $a(t+\\Delta t)$ only depends on posit"
   ]
  },
  {
   "cell_type": "code",
   "execution_count": null,
   "id": "657f9a21-66f3-45a3-824b-331326273fff",
   "metadata": {},
   "outputs": [],
   "source": []
  }
 ],
 "metadata": {
  "kernelspec": {
   "display_name": "Julia 1.8.3",
   "language": "julia",
   "name": "julia-1.8"
  },
  "language_info": {
   "file_extension": ".jl",
   "mimetype": "application/julia",
   "name": "julia",
   "version": "1.8.3"
  }
 },
 "nbformat": 4,
 "nbformat_minor": 5
}

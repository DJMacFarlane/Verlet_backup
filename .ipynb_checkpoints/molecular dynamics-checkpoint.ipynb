{
 "cells": [
  {
   "cell_type": "code",
   "execution_count": 42,
   "id": "fb36c0ff",
   "metadata": {
    "slideshow": {
     "slide_type": "slide"
    }
   },
   "outputs": [
    {
     "data": {
      "text/latex": [
       "$\\vec{x_0} = \\text{initial conditions}\\\\\n",
       "           \\vec{x_1} = \\vec{x_0} + \\vec{v_0} \\delta t + \\frac{1}{2}\\vec{A}(x) \\delta t^{2}$"
      ],
      "text/plain": [
       "L\"$\\vec{x_0} = \\text{initial conditions}\\\\\n",
       "           \\vec{x_1} = \\vec{x_0} + \\vec{v_0} \\delta t + \\frac{1}{2}\\vec{A}(x) \\delta t^{2}$\""
      ]
     },
     "metadata": {},
     "output_type": "display_data"
    },
    {
     "data": {
      "text/latex": [
       "$\\vec{A}(x_i) = \\sum_{j\\neq i}{G\\frac{m_j}{\\vec{r_{ij}}^2}}$"
      ],
      "text/plain": [
       "L\"$\\vec{A}(x_i) = \\sum_{j\\neq i}{G\\frac{m_j}{\\vec{r_{ij}}^2}}$\""
      ]
     },
     "metadata": {},
     "output_type": "display_data"
    }
   ],
   "source": [
    "include(\"Particle.jl\")\n",
    "using LaTeXStrings\n",
    "\n",
    "#-------- Particle(Position, Mass)\n",
    "sun     = Particle([0, 0],     1)\n",
    "earth   = Particle([0, 1],     3e-6)\n",
    "jupiter = Particle([0, 5.36],  9.55e-4)\n",
    "halley  = Particle([34.75, 0], 1e-14)\n",
    "\n",
    "planets = [sun, earth, jupiter, halley]\n",
    "planet_names = [\"Sun\", \"Earth\", \"Jupiter\", \"Halley's comet\"]   \n",
    "\n",
    "# Verlet Setup\n",
    "v0 = [[0,0], [-1, 0], [-0.425,0], [0,0.0296]]\n",
    "x_old = [p.position for p in planets]\n",
    "x_n = x_old .+ v0 .* δt + accels(planets) .* 0.5 .* δt^2\n",
    "\n",
    "\n",
    "display(L\"$\\vec{x_0} = \\text{initial conditions}\\\\\n",
    "           \\vec{x_1} = \\vec{x_0} + \\vec{v_0} \\delta t + \\frac{1}{2}\\vec{A}(x) \\delta t^{2}$\")\n",
    "display(L\"\\vec{A}(x_i) = \\sum_{j\\neq i}{G\\frac{m_j}{\\vec{r_{ij}}^2}}\")"
   ]
  },
  {
   "cell_type": "code",
   "execution_count": 39,
   "id": "b98994b0",
   "metadata": {
    "scrolled": true,
    "slideshow": {
     "slide_type": "subslide"
    }
   },
   "outputs": [
    {
     "data": {
      "text/latex": [
       "$x_{n+1} = 2 x_n - x_{n-1} + A(x) \\delta t^2$"
      ],
      "text/plain": [
       "L\"$x_{n+1} = 2 x_n - x_{n-1} + A(x) \\delta t^2$\""
      ]
     },
     "metadata": {},
     "output_type": "display_data"
    },
    {
     "data": {
      "image/png": "[encoded data removed]"
     },
     "metadata": {},
     "output_type": "display_data"
    }
   ],
   "source": [
    "δt = 0.015\n",
    "t_end=468\n",
    "\n",
    "update_particles(planets, x_n)\n",
    "for i in δt:δt:t_end\n",
    "    x_next = 2 .* x_n .- x_old .+ accels(planets) .* δt^2\n",
    "    x_old = x_n\n",
    "    x_n = x_next\n",
    "    update_particles(planets, x_n)\n",
    "end\n",
    "\n",
    "display(L\"$x_{n+1} = 2 x_n - x_{n-1} + A(x) \\delta t^2$\")\n",
    "display(\"image/png\", read(\"./orbits.png\"))\n",
    "    "
   ]
  },
  {
   "cell_type": "markdown",
   "id": "d2b3bfac",
   "metadata": {
    "slideshow": {
     "slide_type": "slide"
    }
   },
   "source": [
    "# NVE Molecular Dynamics Simulations\n",
    "(also known as a microcanonical ensemble) \n",
    "\n",
    "where\n",
    "* N - Number/moles of each type of atom is fixed\n",
    "* V - Volume simulated is fixed\n",
    "* E - (total) Energy of system is fixed \n",
    "\n",
    "Often classical mechanics utilized for nuclei $\\rightarrow$ allows Verlet method directly for trajectories \n",
    "\n",
    "(The Born-Oppenheimer approximation is often used for electronic structure $\\rightarrow$ machine learning techniques might be used as well in more modern approaches [paper](https://arxiv.org/pdf/2001.11696.pdf))"
   ]
  },
  {
   "cell_type": "markdown",
   "id": "79bf33cb",
   "metadata": {
    "slideshow": {
     "slide_type": "subslide"
    }
   },
   "source": [
    "Similar to the gravitational example, but use electrostatic and electromagnetic potentials instead \n",
    "\n",
    "for example the Lennard-Jones Potential\n",
    "\n",
    "$$U(r) = 4\\varepsilon \\left[\\left(\\frac{\\sigma}{r}\\right)^{12}- \\left(\\frac{\\sigma}{r}\\right)^6\\right]$$\n",
    "\n",
    "where \n",
    "$\\varepsilon$ is the depth of the potential well\n",
    "$\\sigma$ is the distance at which the particle-particle energy is zero\n",
    "$r$ is the distance between the particles\n",
    "\n",
    "$$A(x) = -\\nabla U(r) = 24\\varepsilon \\left[\\frac{\\sigma^5}{r^7} - 2\\frac{\\sigma^{11}}{r^{13}} \\right]$$\n",
    "\n",
    "Usually only for pair potential $\\rightarrow$ need more complex potential for many systems\n",
    "\n",
    "$1/r^{12} \\rightarrow$ describes Pauli repulsion   $1/r^{6}\\rightarrow$  describes the attraction/Van der Waals"
   ]
  },
  {
   "cell_type": "code",
   "execution_count": 58,
   "id": "f2f8a837",
   "metadata": {
    "slideshow": {
     "slide_type": "subslide"
    }
   },
   "outputs": [
    {
     "data": {
      "image/svg+xml": [
       "<?xml version=\"1.0\" encoding=\"utf-8\"?>\n",
       "<svg xmlns=\"http://www.w3.org/2000/svg\" xmlns:xlink=\"http://www.w3.org/1999/xlink\" width=\"600\" height=\"400\" viewBox=\"0 0 2400 1600\">\n",
       "<defs>\n",
       "  <clipPath id=\"clip350\">\n",
       "    <rect x=\"0\" y=\"0\" width=\"2400\" height=\"1600\"/>\n",
       "  </clipPath>\n",
       "</defs>\n",
       "<path clip-path=\"url(#clip350)\" d=\"\n",
       "M0 1600 L2400 1600 L2400 0 L0 0  Z\n",
       "  \" fill=\"#ffffff\" fill-rule=\"evenodd\" fill-opacity=\"1\"/>\n",
       "<defs>\n",
       "  <clipPath id=\"clip351\">\n",
       "    <rect x=\"480\" y=\"0\" width=\"1681\" height=\"1600\"/>\n",
       "  </clipPath>\n",
       "</defs>\n",
       "<path clip-path=\"url(#clip350)\" d=\"\n",
       "M210.746 1423.18 L2352.76 1423.18 L2352.76 123.472 L210.746 123.472  Z\n",
       "  \" fill=\"#ffffff\" fill-rule=\"evenodd\" fill-opacity=\"1\"/>\n",
       "<defs>\n",
       "  <clipPath id=\"clip352\">\n",
       "    <rect x=\"210\" y=\"123\" width=\"2143\" height=\"1301\"/>\n",
       "  </clipPath>\n",
       "</defs>\n",
       "<polyline clip-path=\"url(#clip352)\" style=\"stroke:#000000; stroke-linecap:round; stroke-linejoin:round; stroke-width:2; stroke-opacity:0.1; fill:none\" points=\"\n",
       "  320.656,1423.18 320.656,123.472 \n",
       "  \"/>\n",
       "<polyline clip-path=\"url(#clip352)\" style=\"stroke:#000000; stroke-linecap:round; stroke-linejoin:round; stroke-width:2; stroke-opacity:0.1; fill:none\" points=\"\n",
       "  813.525,1423.18 813.525,123.472 \n",
       "  \"/>\n",
       "<polyline clip-path=\"url(#clip352)\" style=\"stroke:#000000; stroke-linecap:round; stroke-linejoin:round; stroke-width:2; stroke-opacity:0.1; fill:none\" points=\"\n",
       "  1306.39,1423.18 1306.39,123.472 \n",
       "  \"/>\n",
       "<polyline clip-path=\"url(#clip352)\" style=\"stroke:#000000; stroke-linecap:round; stroke-linejoin:round; stroke-width:2; stroke-opacity:0.1; fill:none\" points=\"\n",
       "  1799.26,1423.18 1799.26,123.472 \n",
       "  \"/>\n",
       "<polyline clip-path=\"url(#clip352)\" style=\"stroke:#000000; stroke-linecap:round; stroke-linejoin:round; stroke-width:2; stroke-opacity:0.1; fill:none\" points=\"\n",
       "  2292.13,1423.18 2292.13,123.472 \n",
       "  \"/>\n",
       "<polyline clip-path=\"url(#clip350)\" style=\"stroke:#000000; stroke-linecap:round; stroke-linejoin:round; stroke-width:4; stroke-opacity:1; fill:none\" points=\"\n",
       "  210.746,1423.18 2352.76,1423.18 \n",
       "  \"/>\n",
       "<polyline clip-path=\"url(#clip350)\" style=\"stroke:#000000; stroke-linecap:round; stroke-linejoin:round; stroke-width:4; stroke-opacity:1; fill:none\" points=\"\n",
       "  320.656,1423.18 320.656,1404.28 \n",
       "  \"/>\n",
       "<polyline clip-path=\"url(#clip350)\" style=\"stroke:#000000; stroke-linecap:round; stroke-linejoin:round; stroke-width:4; stroke-opacity:1; fill:none\" points=\"\n",
       "  813.525,1423.18 813.525,1404.28 \n",
       "  \"/>\n",
       "<polyline clip-path=\"url(#clip350)\" style=\"stroke:#000000; stroke-linecap:round; stroke-linejoin:round; stroke-width:4; stroke-opacity:1; fill:none\" points=\"\n",
       "  1306.39,1423.18 1306.39,1404.28 \n",
       "  \"/>\n",
       "<polyline clip-path=\"url(#clip350)\" style=\"stroke:#000000; stroke-linecap:round; stroke-linejoin:round; stroke-width:4; stroke-opacity:1; fill:none\" points=\"\n",
       "  1799.26,1423.18 1799.26,1404.28 \n",
       "  \"/>\n",
       "<polyline clip-path=\"url(#clip350)\" style=\"stroke:#000000; stroke-linecap:round; stroke-linejoin:round; stroke-width:4; stroke-opacity:1; fill:none\" points=\"\n",
       "  2292.13,1423.18 2292.13,1404.28 \n",
       "  \"/>\n",
       "<path clip-path=\"url(#clip350)\" d=\"M287.809 1481.64 L295.448 1481.64 L295.448 1455.28 L287.137 1456.95 L287.137 1452.69 L295.401 1451.02 L300.077 1451.02 L300.077 1481.64 L307.716 1481.64 L307.716 1485.58 L287.809 1485.58 L287.809 1481.64 Z\" fill=\"#000000\" fill-rule=\"evenodd\" fill-opacity=\"1\" /><path clip-path=\"url(#clip350)\" d=\"M317.16 1479.7 L322.045 1479.7 L322.045 1485.58 L317.16 1485.58 L317.16 1479.7 Z\" fill=\"#000000\" fill-rule=\"evenodd\" fill-opacity=\"1\" /><path clip-path=\"url(#clip350)\" d=\"M342.23 1454.1 Q338.619 1454.1 336.79 1457.66 Q334.984 1461.2 334.984 1468.33 Q334.984 1475.44 336.79 1479.01 Q338.619 1482.55 342.23 1482.55 Q345.864 1482.55 347.67 1479.01 Q349.498 1475.44 349.498 1468.33 Q349.498 1461.2 347.67 1457.66 Q345.864 1454.1 342.23 1454.1 M342.23 1450.39 Q348.04 1450.39 351.095 1455 Q354.174 1459.58 354.174 1468.33 Q354.174 1477.06 351.095 1481.67 Q348.04 1486.25 342.23 1486.25 Q336.42 1486.25 333.341 1481.67 Q330.285 1477.06 330.285 1468.33 Q330.285 1459.58 333.341 1455 Q336.42 1450.39 342.23 1450.39 Z\" fill=\"#000000\" fill-rule=\"evenodd\" fill-opacity=\"1\" /><path clip-path=\"url(#clip350)\" d=\"M781.176 1481.64 L788.815 1481.64 L788.815 1455.28 L780.504 1456.95 L780.504 1452.69 L788.768 1451.02 L793.444 1451.02 L793.444 1481.64 L801.083 1481.64 L801.083 1485.58 L781.176 1485.58 L781.176 1481.64 Z\" fill=\"#000000\" fill-rule=\"evenodd\" fill-opacity=\"1\" /><path clip-path=\"url(#clip350)\" d=\"M810.527 1479.7 L815.412 1479.7 L815.412 1485.58 L810.527 1485.58 L810.527 1479.7 Z\" fill=\"#000000\" fill-rule=\"evenodd\" fill-opacity=\"1\" /><path clip-path=\"url(#clip350)\" d=\"M825.643 1451.02 L843.999 1451.02 L843.999 1454.96 L829.925 1454.96 L829.925 1463.43 Q830.944 1463.08 831.962 1462.92 Q832.981 1462.73 834 1462.73 Q839.787 1462.73 843.166 1465.9 Q846.546 1469.08 846.546 1474.49 Q846.546 1480.07 843.074 1483.17 Q839.601 1486.25 833.282 1486.25 Q831.106 1486.25 828.838 1485.88 Q826.592 1485.51 824.185 1484.77 L824.185 1480.07 Q826.268 1481.2 828.49 1481.76 Q830.713 1482.32 833.189 1482.32 Q837.194 1482.32 839.532 1480.21 Q841.87 1478.1 841.87 1474.49 Q841.87 1470.88 839.532 1468.77 Q837.194 1466.67 833.189 1466.67 Q831.314 1466.67 829.439 1467.08 Q827.588 1467.5 825.643 1468.38 L825.643 1451.02 Z\" fill=\"#000000\" fill-rule=\"evenodd\" fill-opacity=\"1\" /><path clip-path=\"url(#clip350)\" d=\"M1277.63 1481.64 L1293.95 1481.64 L1293.95 1485.58 L1272.01 1485.58 L1272.01 1481.64 Q1274.67 1478.89 1279.25 1474.26 Q1283.86 1469.61 1285.04 1468.27 Q1287.29 1465.74 1288.17 1464.01 Q1289.07 1462.25 1289.07 1460.56 Q1289.07 1457.8 1287.12 1456.07 Q1285.2 1454.33 1282.1 1454.33 Q1279.9 1454.33 1277.45 1455.09 Q1275.02 1455.86 1272.24 1457.41 L1272.24 1452.69 Q1275.06 1451.55 1277.52 1450.97 Q1279.97 1450.39 1282.01 1450.39 Q1287.38 1450.39 1290.57 1453.08 Q1293.77 1455.77 1293.77 1460.26 Q1293.77 1462.39 1292.96 1464.31 Q1292.17 1466.2 1290.06 1468.8 Q1289.48 1469.47 1286.38 1472.69 Q1283.28 1475.88 1277.63 1481.64 Z\" fill=\"#000000\" fill-rule=\"evenodd\" fill-opacity=\"1\" /><path clip-path=\"url(#clip350)\" d=\"M1303.77 1479.7 L1308.65 1479.7 L1308.65 1485.58 L1303.77 1485.58 L1303.77 1479.7 Z\" fill=\"#000000\" fill-rule=\"evenodd\" fill-opacity=\"1\" /><path clip-path=\"url(#clip350)\" d=\"M1328.84 1454.1 Q1325.23 1454.1 1323.4 1457.66 Q1321.59 1461.2 1321.59 1468.33 Q1321.59 1475.44 1323.4 1479.01 Q1325.23 1482.55 1328.84 1482.55 Q1332.47 1482.55 1334.28 1479.01 Q1336.1 1475.44 1336.1 1468.33 Q1336.1 1461.2 1334.28 1457.66 Q1332.47 1454.1 1328.84 1454.1 M1328.84 1450.39 Q1334.65 1450.39 1337.7 1455 Q1340.78 1459.58 1340.78 1468.33 Q1340.78 1477.06 1337.7 1481.67 Q1334.65 1486.25 1328.84 1486.25 Q1323.03 1486.25 1319.95 1481.67 Q1316.89 1477.06 1316.89 1468.33 Q1316.89 1459.58 1319.95 1455 Q1323.03 1450.39 1328.84 1450.39 Z\" fill=\"#000000\" fill-rule=\"evenodd\" fill-opacity=\"1\" /><path clip-path=\"url(#clip350)\" d=\"M1771 1481.64 L1787.32 1481.64 L1787.32 1485.58 L1765.37 1485.58 L1765.37 1481.64 Q1768.04 1478.89 1772.62 1474.26 Q1777.23 1469.61 1778.41 1468.27 Q1780.65 1465.74 1781.53 1464.01 Q1782.44 1462.25 1782.44 1460.56 Q1782.44 1457.8 1780.49 1456.07 Q1778.57 1454.33 1775.47 1454.33 Q1773.27 1454.33 1770.81 1455.09 Q1768.38 1455.86 1765.61 1457.41 L1765.61 1452.69 Q1768.43 1451.55 1770.88 1450.97 Q1773.34 1450.39 1775.37 1450.39 Q1780.75 1450.39 1783.94 1453.08 Q1787.13 1455.77 1787.13 1460.26 Q1787.13 1462.39 1786.32 1464.31 Q1785.54 1466.2 1783.43 1468.8 Q1782.85 1469.47 1779.75 1472.69 Q1776.65 1475.88 1771 1481.64 Z\" fill=\"#000000\" fill-rule=\"evenodd\" fill-opacity=\"1\" /><path clip-path=\"url(#clip350)\" d=\"M1797.13 1479.7 L1802.02 1479.7 L1802.02 1485.58 L1797.13 1485.58 L1797.13 1479.7 Z\" fill=\"#000000\" fill-rule=\"evenodd\" fill-opacity=\"1\" /><path clip-path=\"url(#clip350)\" d=\"M1812.25 1451.02 L1830.61 1451.02 L1830.61 1454.96 L1816.53 1454.96 L1816.53 1463.43 Q1817.55 1463.08 1818.57 1462.92 Q1819.59 1462.73 1820.61 1462.73 Q1826.39 1462.73 1829.77 1465.9 Q1833.15 1469.08 1833.15 1474.49 Q1833.15 1480.07 1829.68 1483.17 Q1826.21 1486.25 1819.89 1486.25 Q1817.71 1486.25 1815.44 1485.88 Q1813.2 1485.51 1810.79 1484.77 L1810.79 1480.07 Q1812.87 1481.2 1815.1 1481.76 Q1817.32 1482.32 1819.8 1482.32 Q1823.8 1482.32 1826.14 1480.21 Q1828.48 1478.1 1828.48 1474.49 Q1828.48 1470.88 1826.14 1468.77 Q1823.8 1466.67 1819.8 1466.67 Q1817.92 1466.67 1816.05 1467.08 Q1814.19 1467.5 1812.25 1468.38 L1812.25 1451.02 Z\" fill=\"#000000\" fill-rule=\"evenodd\" fill-opacity=\"1\" /><path clip-path=\"url(#clip350)\" d=\"M2273.44 1466.95 Q2276.8 1467.66 2278.67 1469.93 Q2280.57 1472.2 2280.57 1475.53 Q2280.57 1480.65 2277.05 1483.45 Q2273.53 1486.25 2267.05 1486.25 Q2264.88 1486.25 2262.56 1485.81 Q2260.27 1485.39 2257.82 1484.54 L2257.82 1480.02 Q2259.76 1481.16 2262.08 1481.74 Q2264.39 1482.32 2266.91 1482.32 Q2271.31 1482.32 2273.6 1480.58 Q2275.92 1478.84 2275.92 1475.53 Q2275.92 1472.48 2273.77 1470.77 Q2271.64 1469.03 2267.82 1469.03 L2263.79 1469.03 L2263.79 1465.19 L2268 1465.19 Q2271.45 1465.19 2273.28 1463.82 Q2275.11 1462.43 2275.11 1459.84 Q2275.11 1457.18 2273.21 1455.77 Q2271.33 1454.33 2267.82 1454.33 Q2265.89 1454.33 2263.7 1454.75 Q2261.5 1455.16 2258.86 1456.04 L2258.86 1451.88 Q2261.52 1451.14 2263.83 1450.77 Q2266.17 1450.39 2268.23 1450.39 Q2273.56 1450.39 2276.66 1452.83 Q2279.76 1455.23 2279.76 1459.35 Q2279.76 1462.22 2278.12 1464.21 Q2276.47 1466.18 2273.44 1466.95 Z\" fill=\"#000000\" fill-rule=\"evenodd\" fill-opacity=\"1\" /><path clip-path=\"url(#clip350)\" d=\"M2289.44 1479.7 L2294.32 1479.7 L2294.32 1485.58 L2289.44 1485.58 L2289.44 1479.7 Z\" fill=\"#000000\" fill-rule=\"evenodd\" fill-opacity=\"1\" /><path clip-path=\"url(#clip350)\" d=\"M2314.51 1454.1 Q2310.89 1454.1 2309.07 1457.66 Q2307.26 1461.2 2307.26 1468.33 Q2307.26 1475.44 2309.07 1479.01 Q2310.89 1482.55 2314.51 1482.55 Q2318.14 1482.55 2319.95 1479.01 Q2321.77 1475.44 2321.77 1468.33 Q2321.77 1461.2 2319.95 1457.66 Q2318.14 1454.1 2314.51 1454.1 M2314.51 1450.39 Q2320.32 1450.39 2323.37 1455 Q2326.45 1459.58 2326.45 1468.33 Q2326.45 1477.06 2323.37 1481.67 Q2320.32 1486.25 2314.51 1486.25 Q2308.7 1486.25 2305.62 1481.67 Q2302.56 1477.06 2302.56 1468.33 Q2302.56 1459.58 2305.62 1455 Q2308.7 1450.39 2314.51 1450.39 Z\" fill=\"#000000\" fill-rule=\"evenodd\" fill-opacity=\"1\" /><path clip-path=\"url(#clip350)\" d=\"M1292.19 1537.87 Q1291.2 1537.3 1290.03 1537.04 Q1288.88 1536.76 1287.48 1536.76 Q1282.51 1536.76 1279.84 1540 Q1277.2 1543.22 1277.2 1549.27 L1277.2 1568.04 L1271.31 1568.04 L1271.31 1532.4 L1277.2 1532.4 L1277.2 1537.93 Q1279.05 1534.69 1282.01 1533.13 Q1284.97 1531.54 1289.2 1531.54 Q1289.8 1531.54 1290.54 1531.63 Q1291.27 1531.7 1292.16 1531.85 L1292.19 1537.87 Z\" fill=\"#000000\" fill-rule=\"evenodd\" fill-opacity=\"1\" /><polyline clip-path=\"url(#clip352)\" style=\"stroke:#000000; stroke-linecap:round; stroke-linejoin:round; stroke-width:2; stroke-opacity:0.1; fill:none\" points=\"\n",
       "  210.746,1386.47 2352.76,1386.47 \n",
       "  \"/>\n",
       "<polyline clip-path=\"url(#clip352)\" style=\"stroke:#000000; stroke-linecap:round; stroke-linejoin:round; stroke-width:2; stroke-opacity:0.1; fill:none\" points=\"\n",
       "  210.746,972.344 2352.76,972.344 \n",
       "  \"/>\n",
       "<polyline clip-path=\"url(#clip352)\" style=\"stroke:#000000; stroke-linecap:round; stroke-linejoin:round; stroke-width:2; stroke-opacity:0.1; fill:none\" points=\"\n",
       "  210.746,558.219 2352.76,558.219 \n",
       "  \"/>\n",
       "<polyline clip-path=\"url(#clip352)\" style=\"stroke:#000000; stroke-linecap:round; stroke-linejoin:round; stroke-width:2; stroke-opacity:0.1; fill:none\" points=\"\n",
       "  210.746,144.095 2352.76,144.095 \n",
       "  \"/>\n",
       "<polyline clip-path=\"url(#clip350)\" style=\"stroke:#000000; stroke-linecap:round; stroke-linejoin:round; stroke-width:4; stroke-opacity:1; fill:none\" points=\"\n",
       "  210.746,1423.18 210.746,123.472 \n",
       "  \"/>\n",
       "<polyline clip-path=\"url(#clip350)\" style=\"stroke:#000000; stroke-linecap:round; stroke-linejoin:round; stroke-width:4; stroke-opacity:1; fill:none\" points=\"\n",
       "  210.746,1386.47 229.644,1386.47 \n",
       "  \"/>\n",
       "<polyline clip-path=\"url(#clip350)\" style=\"stroke:#000000; stroke-linecap:round; stroke-linejoin:round; stroke-width:4; stroke-opacity:1; fill:none\" points=\"\n",
       "  210.746,972.344 229.644,972.344 \n",
       "  \"/>\n",
       "<polyline clip-path=\"url(#clip350)\" style=\"stroke:#000000; stroke-linecap:round; stroke-linejoin:round; stroke-width:4; stroke-opacity:1; fill:none\" points=\"\n",
       "  210.746,558.219 229.644,558.219 \n",
       "  \"/>\n",
       "<polyline clip-path=\"url(#clip350)\" style=\"stroke:#000000; stroke-linecap:round; stroke-linejoin:round; stroke-width:4; stroke-opacity:1; fill:none\" points=\"\n",
       "  210.746,144.095 229.644,144.095 \n",
       "  \"/>\n",
       "<path clip-path=\"url(#clip350)\" d=\"M114.26 1386.92 L143.936 1386.92 L143.936 1390.86 L114.26 1390.86 L114.26 1386.92 Z\" fill=\"#000000\" fill-rule=\"evenodd\" fill-opacity=\"1\" /><path clip-path=\"url(#clip350)\" d=\"M154.839 1399.81 L162.477 1399.81 L162.477 1373.45 L154.167 1375.11 L154.167 1370.86 L162.431 1369.19 L167.107 1369.19 L167.107 1399.81 L174.746 1399.81 L174.746 1403.75 L154.839 1403.75 L154.839 1399.81 Z\" fill=\"#000000\" fill-rule=\"evenodd\" fill-opacity=\"1\" /><path clip-path=\"url(#clip350)\" d=\"M162.802 958.143 Q159.19 958.143 157.362 961.707 Q155.556 965.249 155.556 972.379 Q155.556 979.485 157.362 983.05 Q159.19 986.592 162.802 986.592 Q166.436 986.592 168.241 983.05 Q170.07 979.485 170.07 972.379 Q170.07 965.249 168.241 961.707 Q166.436 958.143 162.802 958.143 M162.802 954.439 Q168.612 954.439 171.667 959.045 Q174.746 963.629 174.746 972.379 Q174.746 981.106 171.667 985.712 Q168.612 990.295 162.802 990.295 Q156.991 990.295 153.913 985.712 Q150.857 981.106 150.857 972.379 Q150.857 963.629 153.913 959.045 Q156.991 954.439 162.802 954.439 Z\" fill=\"#000000\" fill-rule=\"evenodd\" fill-opacity=\"1\" /><path clip-path=\"url(#clip350)\" d=\"M154.839 571.564 L162.477 571.564 L162.477 545.199 L154.167 546.865 L154.167 542.606 L162.431 540.939 L167.107 540.939 L167.107 571.564 L174.746 571.564 L174.746 575.499 L154.839 575.499 L154.839 571.564 Z\" fill=\"#000000\" fill-rule=\"evenodd\" fill-opacity=\"1\" /><path clip-path=\"url(#clip350)\" d=\"M158.427 157.44 L174.746 157.44 L174.746 161.375 L152.802 161.375 L152.802 157.44 Q155.464 154.685 160.047 150.056 Q164.653 145.403 165.834 144.06 Q168.079 141.537 168.959 139.801 Q169.862 138.042 169.862 136.352 Q169.862 133.597 167.917 131.861 Q165.996 130.125 162.894 130.125 Q160.695 130.125 158.241 130.889 Q155.811 131.653 153.033 133.204 L153.033 128.482 Q155.857 127.347 158.311 126.769 Q160.765 126.19 162.802 126.19 Q168.172 126.19 171.366 128.875 Q174.561 131.56 174.561 136.051 Q174.561 138.181 173.751 140.102 Q172.964 142 170.857 144.593 Q170.278 145.264 167.177 148.482 Q164.075 151.676 158.427 157.44 Z\" fill=\"#000000\" fill-rule=\"evenodd\" fill-opacity=\"1\" /><path clip-path=\"url(#clip350)\" d=\"M16.4842 830.379 L16.4842 823.917 L45.3526 823.917 Q52.9915 823.917 56.3653 821.148 Q59.7073 818.379 59.7073 812.173 Q59.7073 805.998 56.3653 803.229 Q52.9915 800.46 45.3526 800.46 L16.4842 800.46 L16.4842 793.999 L46.1484 793.999 Q55.4423 793.999 60.1847 798.614 Q64.9272 803.197 64.9272 812.173 Q64.9272 821.18 60.1847 825.795 Q55.4423 830.379 46.1484 830.379 L16.4842 830.379 Z\" fill=\"#000000\" fill-rule=\"evenodd\" fill-opacity=\"1\" /><path clip-path=\"url(#clip350)\" d=\"M14.5426 768.122 Q21.8632 772.387 29.0246 774.456 Q36.186 776.525 43.5384 776.525 Q50.8908 776.525 58.1159 774.456 Q65.3091 772.355 72.5979 768.122 L72.5979 773.215 Q65.1182 777.989 57.8931 780.376 Q50.668 782.731 43.5384 782.731 Q36.4406 782.731 29.2474 780.376 Q22.0542 778.021 14.5426 773.215 L14.5426 768.122 Z\" fill=\"#000000\" fill-rule=\"evenodd\" fill-opacity=\"1\" /><path clip-path=\"url(#clip350)\" d=\"M33.8307 736.103 Q33.2578 737.089 33.0032 738.267 Q32.7167 739.413 32.7167 740.813 Q32.7167 745.778 35.9632 748.452 Q39.1779 751.094 45.2253 751.094 L64.0042 751.094 L64.0042 756.982 L28.3562 756.982 L28.3562 751.094 L33.8944 751.094 Q30.6479 749.248 29.0883 746.288 Q27.4968 743.328 27.4968 739.094 Q27.4968 738.49 27.5923 737.758 Q27.656 737.026 27.8151 736.134 L33.8307 736.103 Z\" fill=\"#000000\" fill-rule=\"evenodd\" fill-opacity=\"1\" /><path clip-path=\"url(#clip350)\" d=\"M14.5426 730.883 L14.5426 725.79 Q22.0542 721.016 29.2474 718.66 Q36.4406 716.273 43.5384 716.273 Q50.668 716.273 57.8931 718.66 Q65.1182 721.016 72.5979 725.79 L72.5979 730.883 Q65.3091 726.649 58.1159 724.581 Q50.8908 722.48 43.5384 722.48 Q36.186 722.48 29.0246 724.581 Q21.8632 726.649 14.5426 730.883 Z\" fill=\"#000000\" fill-rule=\"evenodd\" fill-opacity=\"1\" /><path clip-path=\"url(#clip350)\" d=\"M797.931 12.096 L806.114 12.096 L806.114 65.6895 L835.564 65.6895 L835.564 72.576 L797.931 72.576 L797.931 12.096 Z\" fill=\"#000000\" fill-rule=\"evenodd\" fill-opacity=\"1\" /><path clip-path=\"url(#clip350)\" d=\"M881.177 48.0275 L881.177 51.6733 L846.907 51.6733 Q847.393 59.3701 851.525 63.421 Q855.697 67.4314 863.11 67.4314 Q867.404 67.4314 871.415 66.3781 Q875.465 65.3249 879.435 63.2184 L879.435 70.267 Q875.425 71.9684 871.212 72.8596 Q866.999 73.7508 862.665 73.7508 Q851.808 73.7508 845.448 67.4314 Q839.129 61.1119 839.129 50.3365 Q839.129 39.1965 845.124 32.6746 Q851.16 26.1121 861.368 26.1121 Q870.523 26.1121 875.83 32.0264 Q881.177 37.9003 881.177 48.0275 M873.724 45.84 Q873.643 39.7232 870.28 36.0774 Q866.959 32.4315 861.449 32.4315 Q855.211 32.4315 851.444 35.9558 Q847.717 39.4801 847.15 45.8805 L873.724 45.84 Z\" fill=\"#000000\" fill-rule=\"evenodd\" fill-opacity=\"1\" /><path clip-path=\"url(#clip350)\" d=\"M931.125 45.1919 L931.125 72.576 L923.671 72.576 L923.671 45.4349 Q923.671 38.994 921.16 35.7938 Q918.648 32.5936 913.625 32.5936 Q907.589 32.5936 904.105 36.4419 Q900.622 40.2903 900.622 46.9338 L900.622 72.576 L893.127 72.576 L893.127 27.2059 L900.622 27.2059 L900.622 34.2544 Q903.295 30.163 906.901 28.1376 Q910.546 26.1121 915.286 26.1121 Q923.104 26.1121 927.115 30.9732 Q931.125 35.7938 931.125 45.1919 Z\" fill=\"#000000\" fill-rule=\"evenodd\" fill-opacity=\"1\" /><path clip-path=\"url(#clip350)\" d=\"M983.706 45.1919 L983.706 72.576 L976.252 72.576 L976.252 45.4349 Q976.252 38.994 973.74 35.7938 Q971.229 32.5936 966.206 32.5936 Q960.17 32.5936 956.686 36.4419 Q953.202 40.2903 953.202 46.9338 L953.202 72.576 L945.708 72.576 L945.708 27.2059 L953.202 27.2059 L953.202 34.2544 Q955.876 30.163 959.481 28.1376 Q963.127 26.1121 967.867 26.1121 Q975.685 26.1121 979.695 30.9732 Q983.706 35.7938 983.706 45.1919 Z\" fill=\"#000000\" fill-rule=\"evenodd\" fill-opacity=\"1\" /><path clip-path=\"url(#clip350)\" d=\"M1019.19 49.7694 Q1010.16 49.7694 1006.67 51.8354 Q1003.19 53.9013 1003.19 58.8839 Q1003.19 62.8538 1005.78 65.2034 Q1008.42 67.5124 1012.91 67.5124 Q1019.11 67.5124 1022.84 63.1374 Q1026.6 58.7219 1026.6 51.4303 L1026.6 49.7694 L1019.19 49.7694 M1034.06 46.6907 L1034.06 72.576 L1026.6 72.576 L1026.6 65.6895 Q1024.05 69.8214 1020.24 71.8063 Q1016.44 73.7508 1010.93 73.7508 Q1003.96 73.7508 999.828 69.8619 Q995.737 65.9325 995.737 59.3701 Q995.737 51.7138 1000.84 47.825 Q1005.99 43.9361 1016.15 43.9361 L1026.6 43.9361 L1026.6 43.2069 Q1026.6 38.0623 1023.2 35.2672 Q1019.84 32.4315 1013.72 32.4315 Q1009.83 32.4315 1006.15 33.3632 Q1002.46 34.295 999.059 36.1584 L999.059 29.2718 Q1003.15 27.692 1007 26.9223 Q1010.85 26.1121 1014.49 26.1121 Q1024.34 26.1121 1029.2 31.2163 Q1034.06 36.3204 1034.06 46.6907 Z\" fill=\"#000000\" fill-rule=\"evenodd\" fill-opacity=\"1\" /><path clip-path=\"url(#clip350)\" d=\"M1075.7 34.1734 Q1074.45 33.4443 1072.95 33.1202 Q1071.49 32.7556 1069.71 32.7556 Q1063.39 32.7556 1059.98 36.8875 Q1056.62 40.9789 1056.62 48.6757 L1056.62 72.576 L1049.13 72.576 L1049.13 27.2059 L1056.62 27.2059 L1056.62 34.2544 Q1058.97 30.1225 1062.74 28.1376 Q1066.51 26.1121 1071.89 26.1121 Q1072.66 26.1121 1073.6 26.2337 Q1074.53 26.3147 1075.66 26.5172 L1075.7 34.1734 Z\" fill=\"#000000\" fill-rule=\"evenodd\" fill-opacity=\"1\" /><path clip-path=\"url(#clip350)\" d=\"M1111.92 34.0924 L1111.92 9.54393 L1119.37 9.54393 L1119.37 72.576 L1111.92 72.576 L1111.92 65.7705 Q1109.57 69.8214 1105.96 71.8063 Q1102.4 73.7508 1097.37 73.7508 Q1089.15 73.7508 1083.97 67.1883 Q1078.82 60.6258 1078.82 49.9314 Q1078.82 39.2371 1083.97 32.6746 Q1089.15 26.1121 1097.37 26.1121 Q1102.4 26.1121 1105.96 28.0971 Q1109.57 30.0415 1111.92 34.0924 M1086.52 49.9314 Q1086.52 58.1548 1089.88 62.8538 Q1093.28 67.5124 1099.2 67.5124 Q1105.11 67.5124 1108.51 62.8538 Q1111.92 58.1548 1111.92 49.9314 Q1111.92 41.7081 1108.51 37.0496 Q1105.11 32.3505 1099.2 32.3505 Q1093.28 32.3505 1089.88 37.0496 Q1086.52 41.7081 1086.52 49.9314 Z\" fill=\"#000000\" fill-rule=\"evenodd\" fill-opacity=\"1\" /><path clip-path=\"url(#clip350)\" d=\"M1130.96 46.5287 L1152.79 46.5287 L1152.79 53.1722 L1130.96 53.1722 L1130.96 46.5287 Z\" fill=\"#000000\" fill-rule=\"evenodd\" fill-opacity=\"1\" /><path clip-path=\"url(#clip350)\" d=\"M1169.6 12.096 L1177.78 12.096 L1177.78 68.3631 Q1177.78 79.3005 1173.61 84.2426 Q1169.48 89.1847 1160.28 89.1847 L1157.17 89.1847 L1157.17 82.2982 L1159.72 82.2982 Q1165.15 82.2982 1167.37 79.26 Q1169.6 76.2218 1169.6 68.3631 L1169.6 12.096 Z\" fill=\"#000000\" fill-rule=\"evenodd\" fill-opacity=\"1\" /><path clip-path=\"url(#clip350)\" d=\"M1211.33 32.4315 Q1205.33 32.4315 1201.85 37.1306 Q1198.36 41.7891 1198.36 49.9314 Q1198.36 58.0738 1201.81 62.7728 Q1205.29 67.4314 1211.33 67.4314 Q1217.28 67.4314 1220.76 62.7323 Q1224.25 58.0333 1224.25 49.9314 Q1224.25 41.8701 1220.76 37.1711 Q1217.28 32.4315 1211.33 32.4315 M1211.33 26.1121 Q1221.05 26.1121 1226.6 32.4315 Q1232.15 38.7509 1232.15 49.9314 Q1232.15 61.0714 1226.6 67.4314 Q1221.05 73.7508 1211.33 73.7508 Q1201.56 73.7508 1196.01 67.4314 Q1190.5 61.0714 1190.5 49.9314 Q1190.5 38.7509 1196.01 32.4315 Q1201.56 26.1121 1211.33 26.1121 Z\" fill=\"#000000\" fill-rule=\"evenodd\" fill-opacity=\"1\" /><path clip-path=\"url(#clip350)\" d=\"M1282.22 45.1919 L1282.22 72.576 L1274.76 72.576 L1274.76 45.4349 Q1274.76 38.994 1272.25 35.7938 Q1269.74 32.5936 1264.72 32.5936 Q1258.68 32.5936 1255.2 36.4419 Q1251.71 40.2903 1251.71 46.9338 L1251.71 72.576 L1244.22 72.576 L1244.22 27.2059 L1251.71 27.2059 L1251.71 34.2544 Q1254.39 30.163 1257.99 28.1376 Q1261.64 26.1121 1266.38 26.1121 Q1274.2 26.1121 1278.21 30.9732 Q1282.22 35.7938 1282.22 45.1919 Z\" fill=\"#000000\" fill-rule=\"evenodd\" fill-opacity=\"1\" /><path clip-path=\"url(#clip350)\" d=\"M1335.89 48.0275 L1335.89 51.6733 L1301.62 51.6733 Q1302.11 59.3701 1306.24 63.421 Q1310.41 67.4314 1317.82 67.4314 Q1322.12 67.4314 1326.13 66.3781 Q1330.18 65.3249 1334.15 63.2184 L1334.15 70.267 Q1330.14 71.9684 1325.93 72.8596 Q1321.71 73.7508 1317.38 73.7508 Q1306.52 73.7508 1300.16 67.4314 Q1293.84 61.1119 1293.84 50.3365 Q1293.84 39.1965 1299.84 32.6746 Q1305.87 26.1121 1316.08 26.1121 Q1325.24 26.1121 1330.54 32.0264 Q1335.89 37.9003 1335.89 48.0275 M1328.44 45.84 Q1328.36 39.7232 1324.99 36.0774 Q1321.67 32.4315 1316.16 32.4315 Q1309.92 32.4315 1306.16 35.9558 Q1302.43 39.4801 1301.86 45.8805 L1328.44 45.84 Z\" fill=\"#000000\" fill-rule=\"evenodd\" fill-opacity=\"1\" /><path clip-path=\"url(#clip350)\" d=\"M1377.05 28.5427 L1377.05 35.5912 Q1373.89 33.9709 1370.49 33.1607 Q1367.08 32.3505 1363.44 32.3505 Q1357.89 32.3505 1355.09 34.0519 Q1352.34 35.7533 1352.34 39.156 Q1352.34 41.7486 1354.32 43.2475 Q1356.31 44.7058 1362.3 46.0426 L1364.86 46.6097 Q1372.79 48.3111 1376.12 51.4303 Q1379.48 54.509 1379.48 60.0587 Q1379.48 66.3781 1374.46 70.0644 Q1369.47 73.7508 1360.72 73.7508 Q1357.08 73.7508 1353.11 73.0216 Q1349.18 72.3329 1344.8 70.9151 L1344.8 63.2184 Q1348.94 65.3654 1352.95 66.4591 Q1356.96 67.5124 1360.89 67.5124 Q1366.15 67.5124 1368.99 65.73 Q1371.82 63.9071 1371.82 60.6258 Q1371.82 57.5877 1369.76 55.9673 Q1367.73 54.3469 1360.8 52.8481 L1358.21 52.2405 Q1351.28 50.7821 1348.21 47.7845 Q1345.13 44.7463 1345.13 39.4801 Q1345.13 33.0797 1349.66 29.5959 Q1354.2 26.1121 1362.55 26.1121 Q1366.68 26.1121 1370.32 26.7198 Q1373.97 27.3274 1377.05 28.5427 Z\" fill=\"#000000\" fill-rule=\"evenodd\" fill-opacity=\"1\" /><path clip-path=\"url(#clip350)\" d=\"M1426.23 18.8205 L1426.23 41.5461 L1436.52 41.5461 Q1442.23 41.5461 1445.35 38.5889 Q1448.47 35.6318 1448.47 30.163 Q1448.47 24.7348 1445.35 21.7777 Q1442.23 18.8205 1436.52 18.8205 L1426.23 18.8205 M1418.04 12.096 L1436.52 12.096 Q1446.68 12.096 1451.87 16.714 Q1457.09 21.2916 1457.09 30.163 Q1457.09 39.1155 1451.87 43.6931 Q1446.68 48.2706 1436.52 48.2706 L1426.23 48.2706 L1426.23 72.576 L1418.04 72.576 L1418.04 12.096 Z\" fill=\"#000000\" fill-rule=\"evenodd\" fill-opacity=\"1\" /><path clip-path=\"url(#clip350)\" d=\"M1482.37 32.4315 Q1476.38 32.4315 1472.89 37.1306 Q1469.41 41.7891 1469.41 49.9314 Q1469.41 58.0738 1472.85 62.7728 Q1476.34 67.4314 1482.37 67.4314 Q1488.33 67.4314 1491.81 62.7323 Q1495.29 58.0333 1495.29 49.9314 Q1495.29 41.8701 1491.81 37.1711 Q1488.33 32.4315 1482.37 32.4315 M1482.37 26.1121 Q1492.09 26.1121 1497.64 32.4315 Q1503.19 38.7509 1503.19 49.9314 Q1503.19 61.0714 1497.64 67.4314 Q1492.09 73.7508 1482.37 73.7508 Q1472.61 73.7508 1467.06 67.4314 Q1461.55 61.0714 1461.55 49.9314 Q1461.55 38.7509 1467.06 32.4315 Q1472.61 26.1121 1482.37 26.1121 Z\" fill=\"#000000\" fill-rule=\"evenodd\" fill-opacity=\"1\" /><path clip-path=\"url(#clip350)\" d=\"M1522.92 14.324 L1522.92 27.2059 L1538.27 27.2059 L1538.27 32.9987 L1522.92 32.9987 L1522.92 57.6282 Q1522.92 63.1779 1524.42 64.7578 Q1525.96 66.3376 1530.62 66.3376 L1538.27 66.3376 L1538.27 72.576 L1530.62 72.576 Q1521.99 72.576 1518.71 69.3758 Q1515.43 66.1351 1515.43 57.6282 L1515.43 32.9987 L1509.96 32.9987 L1509.96 27.2059 L1515.43 27.2059 L1515.43 14.324 L1522.92 14.324 Z\" fill=\"#000000\" fill-rule=\"evenodd\" fill-opacity=\"1\" /><path clip-path=\"url(#clip350)\" d=\"M1586.89 48.0275 L1586.89 51.6733 L1552.61 51.6733 Q1553.1 59.3701 1557.23 63.421 Q1561.41 67.4314 1568.82 67.4314 Q1573.11 67.4314 1577.12 66.3781 Q1581.17 65.3249 1585.14 63.2184 L1585.14 70.267 Q1581.13 71.9684 1576.92 72.8596 Q1572.71 73.7508 1568.37 73.7508 Q1557.52 73.7508 1551.16 67.4314 Q1544.84 61.1119 1544.84 50.3365 Q1544.84 39.1965 1550.83 32.6746 Q1556.87 26.1121 1567.08 26.1121 Q1576.23 26.1121 1581.54 32.0264 Q1586.89 37.9003 1586.89 48.0275 M1579.43 45.84 Q1579.35 39.7232 1575.99 36.0774 Q1572.67 32.4315 1567.16 32.4315 Q1560.92 32.4315 1557.15 35.9558 Q1553.42 39.4801 1552.86 45.8805 L1579.43 45.84 Z\" fill=\"#000000\" fill-rule=\"evenodd\" fill-opacity=\"1\" /><path clip-path=\"url(#clip350)\" d=\"M1636.83 45.1919 L1636.83 72.576 L1629.38 72.576 L1629.38 45.4349 Q1629.38 38.994 1626.87 35.7938 Q1624.36 32.5936 1619.33 32.5936 Q1613.3 32.5936 1609.81 36.4419 Q1606.33 40.2903 1606.33 46.9338 L1606.33 72.576 L1598.84 72.576 L1598.84 27.2059 L1606.33 27.2059 L1606.33 34.2544 Q1609 30.163 1612.61 28.1376 Q1616.25 26.1121 1620.99 26.1121 Q1628.81 26.1121 1632.82 30.9732 Q1636.83 35.7938 1636.83 45.1919 Z\" fill=\"#000000\" fill-rule=\"evenodd\" fill-opacity=\"1\" /><path clip-path=\"url(#clip350)\" d=\"M1659.07 14.324 L1659.07 27.2059 L1674.43 27.2059 L1674.43 32.9987 L1659.07 32.9987 L1659.07 57.6282 Q1659.07 63.1779 1660.57 64.7578 Q1662.11 66.3376 1666.77 66.3376 L1674.43 66.3376 L1674.43 72.576 L1666.77 72.576 Q1658.14 72.576 1654.86 69.3758 Q1651.58 66.1351 1651.58 57.6282 L1651.58 32.9987 L1646.11 32.9987 L1646.11 27.2059 L1651.58 27.2059 L1651.58 14.324 L1659.07 14.324 Z\" fill=\"#000000\" fill-rule=\"evenodd\" fill-opacity=\"1\" /><path clip-path=\"url(#clip350)\" d=\"M1684.23 27.2059 L1691.68 27.2059 L1691.68 72.576 L1684.23 72.576 L1684.23 27.2059 M1684.23 9.54393 L1691.68 9.54393 L1691.68 18.9825 L1684.23 18.9825 L1684.23 9.54393 Z\" fill=\"#000000\" fill-rule=\"evenodd\" fill-opacity=\"1\" /><path clip-path=\"url(#clip350)\" d=\"M1727.9 49.7694 Q1718.86 49.7694 1715.38 51.8354 Q1711.9 53.9013 1711.9 58.8839 Q1711.9 62.8538 1714.49 65.2034 Q1717.12 67.5124 1721.62 67.5124 Q1727.82 67.5124 1731.54 63.1374 Q1735.31 58.7219 1735.31 51.4303 L1735.31 49.7694 L1727.9 49.7694 M1742.76 46.6907 L1742.76 72.576 L1735.31 72.576 L1735.31 65.6895 Q1732.76 69.8214 1728.95 71.8063 Q1725.14 73.7508 1719.63 73.7508 Q1712.67 73.7508 1708.53 69.8619 Q1704.44 65.9325 1704.44 59.3701 Q1704.44 51.7138 1709.55 47.825 Q1714.69 43.9361 1724.86 43.9361 L1735.31 43.9361 L1735.31 43.2069 Q1735.31 38.0623 1731.91 35.2672 Q1728.55 32.4315 1722.43 32.4315 Q1718.54 32.4315 1714.85 33.3632 Q1711.17 34.295 1707.76 36.1584 L1707.76 29.2718 Q1711.86 27.692 1715.7 26.9223 Q1719.55 26.1121 1723.2 26.1121 Q1733.04 26.1121 1737.9 31.2163 Q1742.76 36.3204 1742.76 46.6907 Z\" fill=\"#000000\" fill-rule=\"evenodd\" fill-opacity=\"1\" /><path clip-path=\"url(#clip350)\" d=\"M1758.12 9.54393 L1765.57 9.54393 L1765.57 72.576 L1758.12 72.576 L1758.12 9.54393 Z\" fill=\"#000000\" fill-rule=\"evenodd\" fill-opacity=\"1\" /><polyline clip-path=\"url(#clip352)\" style=\"stroke:#009af9; stroke-linecap:round; stroke-linejoin:round; stroke-width:4; stroke-opacity:1; fill:none\" points=\"\n",
       "  271.369,160.256 281.226,385.016 291.084,573.577 300.941,731.363 310.798,862.981 320.656,972.344 330.513,1062.78 340.371,1137.13 350.228,1197.8 360.085,1246.85 \n",
       "  369.943,1286.05 379.8,1316.88 389.657,1340.63 399.515,1358.4 409.372,1371.12 419.23,1379.58 429.087,1384.48 438.944,1386.4 448.802,1385.83 458.659,1383.2 \n",
       "  468.517,1378.88 478.374,1373.18 488.231,1366.37 498.089,1358.66 507.946,1350.25 517.804,1341.31 527.661,1331.98 537.518,1322.36 547.376,1312.57 557.233,1302.67 \n",
       "  567.09,1292.75 576.948,1282.86 586.805,1273.05 596.663,1263.35 606.52,1253.8 616.377,1244.43 626.235,1235.26 636.092,1226.29 645.95,1217.55 655.807,1209.05 \n",
       "  665.664,1200.78 675.522,1192.76 685.379,1184.99 695.236,1177.46 705.094,1170.17 714.951,1163.13 724.809,1156.32 734.666,1149.75 744.523,1143.41 754.381,1137.29 \n",
       "  764.238,1131.4 774.096,1125.72 783.953,1120.24 793.81,1114.97 803.668,1109.89 813.525,1105 823.382,1100.3 833.24,1095.77 843.097,1091.41 852.955,1087.22 \n",
       "  862.812,1083.18 872.669,1079.3 882.527,1075.57 892.384,1071.98 902.242,1068.52 912.099,1065.19 921.956,1061.99 931.814,1058.92 941.671,1055.96 951.528,1053.11 \n",
       "  961.386,1050.37 971.243,1047.73 981.101,1045.19 990.958,1042.74 1000.82,1040.39 1010.67,1038.13 1020.53,1035.95 1030.39,1033.85 1040.24,1031.83 1050.1,1029.88 \n",
       "  1059.96,1028.01 1069.82,1026.2 1079.67,1024.46 1089.53,1022.79 1099.39,1021.17 1109.25,1019.62 1119.1,1018.11 1128.96,1016.67 1138.82,1015.27 1148.68,1013.93 \n",
       "  1158.53,1012.63 1168.39,1011.38 1178.25,1010.18 1188.11,1009.01 1197.96,1007.89 1207.82,1006.81 1217.68,1005.76 1227.54,1004.75 1237.39,1003.78 1247.25,1002.83 \n",
       "  1257.11,1001.92 1266.96,1001.05 1276.82,1000.2 1286.68,999.379 1296.54,998.588 1306.39,997.822 1316.25,997.083 1326.11,996.368 1335.97,995.677 1345.82,995.008 \n",
       "  1355.68,994.362 1365.54,993.737 1375.4,993.132 1385.25,992.547 1395.11,991.981 1404.97,991.433 1414.83,990.903 1424.68,990.389 1434.54,989.892 1444.4,989.411 \n",
       "  1454.26,988.945 1464.11,988.494 1473.97,988.057 1483.83,987.633 1493.68,987.223 1503.54,986.825 1513.4,986.44 1523.26,986.066 1533.11,985.704 1542.97,985.353 \n",
       "  1552.83,985.013 1562.69,984.683 1572.54,984.362 1582.4,984.052 1592.26,983.751 1602.12,983.458 1611.97,983.175 1621.83,982.899 1631.69,982.632 1641.55,982.373 \n",
       "  1651.4,982.121 1661.26,981.876 1671.12,981.639 1680.98,981.408 1690.83,981.184 1700.69,980.967 1710.55,980.755 1720.4,980.55 1730.26,980.35 1740.12,980.156 \n",
       "  1749.98,979.968 1759.83,979.785 1769.69,979.607 1779.55,979.433 1789.41,979.265 1799.26,979.101 1809.12,978.942 1818.98,978.787 1828.84,978.636 1838.69,978.49 \n",
       "  1848.55,978.347 1858.41,978.208 1868.27,978.073 1878.12,977.942 1887.98,977.814 1897.84,977.689 1907.69,977.568 1917.55,977.449 1927.41,977.334 1937.27,977.222 \n",
       "  1947.12,977.113 1956.98,977.007 1966.84,976.904 1976.7,976.803 1986.55,976.704 1996.41,976.609 2006.27,976.515 2016.13,976.424 2025.98,976.336 2035.84,976.249 \n",
       "  2045.7,976.165 2055.56,976.083 2065.41,976.003 2075.27,975.925 2085.13,975.849 2094.99,975.774 2104.84,975.702 2114.7,975.631 2124.56,975.562 2134.41,975.495 \n",
       "  2144.27,975.429 2154.13,975.365 2163.99,975.303 2173.84,975.242 2183.7,975.182 2193.56,975.124 2203.42,975.067 2213.27,975.012 2223.13,974.958 2232.99,974.905 \n",
       "  2242.85,974.854 2252.7,974.803 2262.56,974.754 2272.42,974.706 2282.28,974.659 2292.13,974.613 \n",
       "  \"/>\n",
       "<polyline clip-path=\"url(#clip352)\" style=\"stroke:#e26f46; stroke-linecap:round; stroke-linejoin:round; stroke-width:4; stroke-opacity:1; fill:none\" points=\"\n",
       "  -1931.26,972.344 4494.77,972.344 \n",
       "  \"/>\n",
       "</svg>\n"
      ]
     },
     "execution_count": 58,
     "metadata": {},
     "output_type": "execute_result"
    }
   ],
   "source": [
    "x=0.95:0.01:3\n",
    "LJP = r -> 4 * ((1/r)^12-(1/r)^6)\n",
    "plot(x, LJP.(x), title=\"Lennard-Jones Potential\", legend=false, xlabel=\"r\", ylabel=\"U(r)\")\n",
    "hline!([0])\n"
   ]
  },
  {
   "cell_type": "code",
   "execution_count": 70,
   "id": "ab75dec0",
   "metadata": {
    "slideshow": {
     "slide_type": "skip"
    }
   },
   "outputs": [
    {
     "data": {
      "text/plain": [
       "LJAccels (generic function with 1 method)"
      ]
     },
     "execution_count": 70,
     "metadata": {},
     "output_type": "execute_result"
    }
   ],
   "source": [
    "function LJForce(a::Particle, b::Particle; ε=1, σ=1)\n",
    "    r = b.position .- a.position\n",
    "    rnorm = norm(r, 2)\n",
    "    24*ε*(σ^5/rnorm^7 - 2*σ^11/rnorm^13) * (r/rnorm)\n",
    "end\n",
    "\n",
    "function LJAccels(plist::Vector{Particle})\n",
    "    a = [zeros(size(p.position)) for p in plist]\n",
    "    for i in 1:length(plist)-1\n",
    "       for j in i+1:length(plist)\n",
    "            f = LJForce(a, b)\n",
    "            a[i] += f\n",
    "            a[j] -= f\n",
    "        end\n",
    "    end\n",
    "    return a\n",
    "end"
   ]
  },
  {
   "cell_type": "code",
   "execution_count": 71,
   "id": "61f2bceb",
   "metadata": {},
   "outputs": [
    {
     "data": {
      "image/svg+xml": [
       "<?xml version=\"1.0\" encoding=\"utf-8\"?>\n",
       "<svg xmlns=\"http://www.w3.org/2000/svg\" xmlns:xlink=\"http://www.w3.org/1999/xlink\" width=\"600\" height=\"400\" viewBox=\"0 0 2400 1600\">\n",
       "<defs>\n",
       "  <clipPath id=\"clip390\">\n",
       "    <rect x=\"0\" y=\"0\" width=\"2400\" height=\"1600\"/>\n",
       "  </clipPath>\n",
       "</defs>\n",
       "<path clip-path=\"url(#clip390)\" d=\"\n",
       "M0 1600 L2400 1600 L2400 0 L0 0  Z\n",
       "  \" fill=\"#ffffff\" fill-rule=\"evenodd\" fill-opacity=\"1\"/>\n",
       "<defs>\n",
       "  <clipPath id=\"clip391\">\n",
       "    <rect x=\"480\" y=\"0\" width=\"1681\" height=\"1600\"/>\n",
       "  </clipPath>\n",
       "</defs>\n",
       "<path clip-path=\"url(#clip390)\" d=\"\n",
       "M138.959 1486.45 L2352.76 1486.45 L2352.76 47.2441 L138.959 47.2441  Z\n",
       "  \" fill=\"#ffffff\" fill-rule=\"evenodd\" fill-opacity=\"1\"/>\n",
       "<defs>\n",
       "  <clipPath id=\"clip392\">\n",
       "    <rect x=\"138\" y=\"47\" width=\"2215\" height=\"1440\"/>\n",
       "  </clipPath>\n",
       "</defs>\n",
       "<polyline clip-path=\"url(#clip392)\" style=\"stroke:#000000; stroke-linecap:round; stroke-linejoin:round; stroke-width:2; stroke-opacity:0.1; fill:none\" points=\"\n",
       "  138.959,1486.45 138.959,47.2441 \n",
       "  \"/>\n",
       "<polyline clip-path=\"url(#clip392)\" style=\"stroke:#000000; stroke-linecap:round; stroke-linejoin:round; stroke-width:2; stroke-opacity:0.1; fill:none\" points=\"\n",
       "  581.719,1486.45 581.719,47.2441 \n",
       "  \"/>\n",
       "<polyline clip-path=\"url(#clip392)\" style=\"stroke:#000000; stroke-linecap:round; stroke-linejoin:round; stroke-width:2; stroke-opacity:0.1; fill:none\" points=\"\n",
       "  1024.48,1486.45 1024.48,47.2441 \n",
       "  \"/>\n",
       "<polyline clip-path=\"url(#clip392)\" style=\"stroke:#000000; stroke-linecap:round; stroke-linejoin:round; stroke-width:2; stroke-opacity:0.1; fill:none\" points=\"\n",
       "  1467.24,1486.45 1467.24,47.2441 \n",
       "  \"/>\n",
       "<polyline clip-path=\"url(#clip392)\" style=\"stroke:#000000; stroke-linecap:round; stroke-linejoin:round; stroke-width:2; stroke-opacity:0.1; fill:none\" points=\"\n",
       "  1910,1486.45 1910,47.2441 \n",
       "  \"/>\n",
       "<polyline clip-path=\"url(#clip392)\" style=\"stroke:#000000; stroke-linecap:round; stroke-linejoin:round; stroke-width:2; stroke-opacity:0.1; fill:none\" points=\"\n",
       "  2352.76,1486.45 2352.76,47.2441 \n",
       "  \"/>\n",
       "<polyline clip-path=\"url(#clip390)\" style=\"stroke:#000000; stroke-linecap:round; stroke-linejoin:round; stroke-width:4; stroke-opacity:1; fill:none\" points=\"\n",
       "  138.959,1486.45 2352.76,1486.45 \n",
       "  \"/>\n",
       "<polyline clip-path=\"url(#clip390)\" style=\"stroke:#000000; stroke-linecap:round; stroke-linejoin:round; stroke-width:4; stroke-opacity:1; fill:none\" points=\"\n",
       "  138.959,1486.45 138.959,1467.55 \n",
       "  \"/>\n",
       "<polyline clip-path=\"url(#clip390)\" style=\"stroke:#000000; stroke-linecap:round; stroke-linejoin:round; stroke-width:4; stroke-opacity:1; fill:none\" points=\"\n",
       "  581.719,1486.45 581.719,1467.55 \n",
       "  \"/>\n",
       "<polyline clip-path=\"url(#clip390)\" style=\"stroke:#000000; stroke-linecap:round; stroke-linejoin:round; stroke-width:4; stroke-opacity:1; fill:none\" points=\"\n",
       "  1024.48,1486.45 1024.48,1467.55 \n",
       "  \"/>\n",
       "<polyline clip-path=\"url(#clip390)\" style=\"stroke:#000000; stroke-linecap:round; stroke-linejoin:round; stroke-width:4; stroke-opacity:1; fill:none\" points=\"\n",
       "  1467.24,1486.45 1467.24,1467.55 \n",
       "  \"/>\n",
       "<polyline clip-path=\"url(#clip390)\" style=\"stroke:#000000; stroke-linecap:round; stroke-linejoin:round; stroke-width:4; stroke-opacity:1; fill:none\" points=\"\n",
       "  1910,1486.45 1910,1467.55 \n",
       "  \"/>\n",
       "<polyline clip-path=\"url(#clip390)\" style=\"stroke:#000000; stroke-linecap:round; stroke-linejoin:round; stroke-width:4; stroke-opacity:1; fill:none\" points=\"\n",
       "  2352.76,1486.45 2352.76,1467.55 \n",
       "  \"/>\n",
       "<path clip-path=\"url(#clip390)\" d=\"M138.959 1517.37 Q135.348 1517.37 133.52 1520.93 Q131.714 1524.47 131.714 1531.6 Q131.714 1538.71 133.52 1542.27 Q135.348 1545.82 138.959 1545.82 Q142.594 1545.82 144.399 1542.27 Q146.228 1538.71 146.228 1531.6 Q146.228 1524.47 144.399 1520.93 Q142.594 1517.37 138.959 1517.37 M138.959 1513.66 Q144.77 1513.66 147.825 1518.27 Q150.904 1522.85 150.904 1531.6 Q150.904 1540.33 147.825 1544.94 Q144.77 1549.52 138.959 1549.52 Q133.149 1549.52 130.071 1544.94 Q127.015 1540.33 127.015 1531.6 Q127.015 1522.85 130.071 1518.27 Q133.149 1513.66 138.959 1513.66 Z\" fill=\"#000000\" fill-rule=\"evenodd\" fill-opacity=\"1\" /><path clip-path=\"url(#clip390)\" d=\"M576.372 1544.91 L592.691 1544.91 L592.691 1548.85 L570.747 1548.85 L570.747 1544.91 Q573.409 1542.16 577.992 1537.53 Q582.598 1532.88 583.779 1531.53 Q586.024 1529.01 586.904 1527.27 Q587.807 1525.51 587.807 1523.82 Q587.807 1521.07 585.862 1519.33 Q583.941 1517.6 580.839 1517.6 Q578.64 1517.6 576.186 1518.36 Q573.756 1519.13 570.978 1520.68 L570.978 1515.95 Q573.802 1514.82 576.256 1514.24 Q578.709 1513.66 580.747 1513.66 Q586.117 1513.66 589.311 1516.35 Q592.506 1519.03 592.506 1523.52 Q592.506 1525.65 591.696 1527.57 Q590.908 1529.47 588.802 1532.07 Q588.223 1532.74 585.121 1535.95 Q582.02 1539.15 576.372 1544.91 Z\" fill=\"#000000\" fill-rule=\"evenodd\" fill-opacity=\"1\" /><path clip-path=\"url(#clip390)\" d=\"M1027.49 1518.36 L1015.68 1536.81 L1027.49 1536.81 L1027.49 1518.36 M1026.26 1514.29 L1032.14 1514.29 L1032.14 1536.81 L1037.07 1536.81 L1037.07 1540.7 L1032.14 1540.7 L1032.14 1548.85 L1027.49 1548.85 L1027.49 1540.7 L1011.89 1540.7 L1011.89 1536.19 L1026.26 1514.29 Z\" fill=\"#000000\" fill-rule=\"evenodd\" fill-opacity=\"1\" /><path clip-path=\"url(#clip390)\" d=\"M1467.64 1529.7 Q1464.49 1529.7 1462.64 1531.86 Q1460.81 1534.01 1460.81 1537.76 Q1460.81 1541.49 1462.64 1543.66 Q1464.49 1545.82 1467.64 1545.82 Q1470.79 1545.82 1472.62 1543.66 Q1474.47 1541.49 1474.47 1537.76 Q1474.47 1534.01 1472.62 1531.86 Q1470.79 1529.7 1467.64 1529.7 M1476.92 1515.05 L1476.92 1519.31 Q1475.17 1518.48 1473.36 1518.04 Q1471.58 1517.6 1469.82 1517.6 Q1465.19 1517.6 1462.74 1520.72 Q1460.3 1523.85 1459.96 1530.17 Q1461.32 1528.15 1463.38 1527.09 Q1465.44 1526 1467.92 1526 Q1473.13 1526 1476.14 1529.17 Q1479.17 1532.32 1479.17 1537.76 Q1479.17 1543.08 1476.02 1546.3 Q1472.87 1549.52 1467.64 1549.52 Q1461.65 1549.52 1458.48 1544.94 Q1455.3 1540.33 1455.3 1531.6 Q1455.3 1523.41 1459.19 1518.55 Q1463.08 1513.66 1469.63 1513.66 Q1471.39 1513.66 1473.17 1514.01 Q1474.98 1514.36 1476.92 1515.05 Z\" fill=\"#000000\" fill-rule=\"evenodd\" fill-opacity=\"1\" /><path clip-path=\"url(#clip390)\" d=\"M1910 1532.44 Q1906.66 1532.44 1904.74 1534.22 Q1902.84 1536 1902.84 1539.13 Q1902.84 1542.25 1904.74 1544.03 Q1906.66 1545.82 1910 1545.82 Q1913.33 1545.82 1915.25 1544.03 Q1917.17 1542.23 1917.17 1539.13 Q1917.17 1536 1915.25 1534.22 Q1913.35 1532.44 1910 1532.44 M1905.32 1530.45 Q1902.31 1529.7 1900.62 1527.64 Q1898.96 1525.58 1898.96 1522.62 Q1898.96 1518.48 1901.89 1516.07 Q1904.86 1513.66 1910 1513.66 Q1915.16 1513.66 1918.1 1516.07 Q1921.04 1518.48 1921.04 1522.62 Q1921.04 1525.58 1919.35 1527.64 Q1917.68 1529.7 1914.7 1530.45 Q1918.08 1531.23 1919.95 1533.52 Q1921.85 1535.82 1921.85 1539.13 Q1921.85 1544.15 1918.77 1546.83 Q1915.71 1549.52 1910 1549.52 Q1904.28 1549.52 1901.2 1546.83 Q1898.14 1544.15 1898.14 1539.13 Q1898.14 1535.82 1900.04 1533.52 Q1901.94 1531.23 1905.32 1530.45 M1903.61 1523.06 Q1903.61 1525.75 1905.27 1527.25 Q1906.96 1528.76 1910 1528.76 Q1913.01 1528.76 1914.7 1527.25 Q1916.41 1525.75 1916.41 1523.06 Q1916.41 1520.38 1914.7 1518.87 Q1913.01 1517.37 1910 1517.37 Q1906.96 1517.37 1905.27 1518.87 Q1903.61 1520.38 1903.61 1523.06 Z\" fill=\"#000000\" fill-rule=\"evenodd\" fill-opacity=\"1\" /><path clip-path=\"url(#clip390)\" d=\"M2327.44 1544.91 L2335.08 1544.91 L2335.08 1518.55 L2326.77 1520.21 L2326.77 1515.95 L2335.04 1514.29 L2339.71 1514.29 L2339.71 1544.91 L2347.35 1544.91 L2347.35 1548.85 L2327.44 1548.85 L2327.44 1544.91 Z\" fill=\"#000000\" fill-rule=\"evenodd\" fill-opacity=\"1\" /><path clip-path=\"url(#clip390)\" d=\"M2366.8 1517.37 Q2363.18 1517.37 2361.36 1520.93 Q2359.55 1524.47 2359.55 1531.6 Q2359.55 1538.71 2361.36 1542.27 Q2363.18 1545.82 2366.8 1545.82 Q2370.43 1545.82 2372.23 1542.27 Q2374.06 1538.71 2374.06 1531.6 Q2374.06 1524.47 2372.23 1520.93 Q2370.43 1517.37 2366.8 1517.37 M2366.8 1513.66 Q2372.61 1513.66 2375.66 1518.27 Q2378.74 1522.85 2378.74 1531.6 Q2378.74 1540.33 2375.66 1544.94 Q2372.61 1549.52 2366.8 1549.52 Q2360.99 1549.52 2357.91 1544.94 Q2354.85 1540.33 2354.85 1531.6 Q2354.85 1522.85 2357.91 1518.27 Q2360.99 1513.66 2366.8 1513.66 Z\" fill=\"#000000\" fill-rule=\"evenodd\" fill-opacity=\"1\" /><polyline clip-path=\"url(#clip392)\" style=\"stroke:#000000; stroke-linecap:round; stroke-linejoin:round; stroke-width:2; stroke-opacity:0.1; fill:none\" points=\"\n",
       "  138.959,1486.45 2352.76,1486.45 \n",
       "  \"/>\n",
       "<polyline clip-path=\"url(#clip392)\" style=\"stroke:#000000; stroke-linecap:round; stroke-linejoin:round; stroke-width:2; stroke-opacity:0.1; fill:none\" points=\"\n",
       "  138.959,1198.61 2352.76,1198.61 \n",
       "  \"/>\n",
       "<polyline clip-path=\"url(#clip392)\" style=\"stroke:#000000; stroke-linecap:round; stroke-linejoin:round; stroke-width:2; stroke-opacity:0.1; fill:none\" points=\"\n",
       "  138.959,910.766 2352.76,910.766 \n",
       "  \"/>\n",
       "<polyline clip-path=\"url(#clip392)\" style=\"stroke:#000000; stroke-linecap:round; stroke-linejoin:round; stroke-width:2; stroke-opacity:0.1; fill:none\" points=\"\n",
       "  138.959,622.926 2352.76,622.926 \n",
       "  \"/>\n",
       "<polyline clip-path=\"url(#clip392)\" style=\"stroke:#000000; stroke-linecap:round; stroke-linejoin:round; stroke-width:2; stroke-opacity:0.1; fill:none\" points=\"\n",
       "  138.959,335.085 2352.76,335.085 \n",
       "  \"/>\n",
       "<polyline clip-path=\"url(#clip392)\" style=\"stroke:#000000; stroke-linecap:round; stroke-linejoin:round; stroke-width:2; stroke-opacity:0.1; fill:none\" points=\"\n",
       "  138.959,47.2441 2352.76,47.2441 \n",
       "  \"/>\n",
       "<polyline clip-path=\"url(#clip390)\" style=\"stroke:#000000; stroke-linecap:round; stroke-linejoin:round; stroke-width:4; stroke-opacity:1; fill:none\" points=\"\n",
       "  138.959,1486.45 138.959,47.2441 \n",
       "  \"/>\n",
       "<polyline clip-path=\"url(#clip390)\" style=\"stroke:#000000; stroke-linecap:round; stroke-linejoin:round; stroke-width:4; stroke-opacity:1; fill:none\" points=\"\n",
       "  138.959,1486.45 157.857,1486.45 \n",
       "  \"/>\n",
       "<polyline clip-path=\"url(#clip390)\" style=\"stroke:#000000; stroke-linecap:round; stroke-linejoin:round; stroke-width:4; stroke-opacity:1; fill:none\" points=\"\n",
       "  138.959,1198.61 157.857,1198.61 \n",
       "  \"/>\n",
       "<polyline clip-path=\"url(#clip390)\" style=\"stroke:#000000; stroke-linecap:round; stroke-linejoin:round; stroke-width:4; stroke-opacity:1; fill:none\" points=\"\n",
       "  138.959,910.766 157.857,910.766 \n",
       "  \"/>\n",
       "<polyline clip-path=\"url(#clip390)\" style=\"stroke:#000000; stroke-linecap:round; stroke-linejoin:round; stroke-width:4; stroke-opacity:1; fill:none\" points=\"\n",
       "  138.959,622.926 157.857,622.926 \n",
       "  \"/>\n",
       "<polyline clip-path=\"url(#clip390)\" style=\"stroke:#000000; stroke-linecap:round; stroke-linejoin:round; stroke-width:4; stroke-opacity:1; fill:none\" points=\"\n",
       "  138.959,335.085 157.857,335.085 \n",
       "  \"/>\n",
       "<polyline clip-path=\"url(#clip390)\" style=\"stroke:#000000; stroke-linecap:round; stroke-linejoin:round; stroke-width:4; stroke-opacity:1; fill:none\" points=\"\n",
       "  138.959,47.2441 157.857,47.2441 \n",
       "  \"/>\n",
       "<path clip-path=\"url(#clip390)\" d=\"M91.0151 1472.25 Q87.404 1472.25 85.5753 1475.81 Q83.7697 1479.35 83.7697 1486.48 Q83.7697 1493.59 85.5753 1497.15 Q87.404 1500.7 91.0151 1500.7 Q94.6493 1500.7 96.4548 1497.15 Q98.2835 1493.59 98.2835 1486.48 Q98.2835 1479.35 96.4548 1475.81 Q94.6493 1472.25 91.0151 1472.25 M91.0151 1468.54 Q96.8252 1468.54 99.8808 1473.15 Q102.959 1477.73 102.959 1486.48 Q102.959 1495.21 99.8808 1499.82 Q96.8252 1504.4 91.0151 1504.4 Q85.2049 1504.4 82.1262 1499.82 Q79.0707 1495.21 79.0707 1486.48 Q79.0707 1477.73 82.1262 1473.15 Q85.2049 1468.54 91.0151 1468.54 Z\" fill=\"#000000\" fill-rule=\"evenodd\" fill-opacity=\"1\" /><path clip-path=\"url(#clip390)\" d=\"M86.6401 1211.95 L102.959 1211.95 L102.959 1215.89 L81.0151 1215.89 L81.0151 1211.95 Q83.6771 1209.2 88.2604 1204.57 Q92.8669 1199.91 94.0475 1198.57 Q96.2928 1196.05 97.1724 1194.31 Q98.0752 1192.55 98.0752 1190.86 Q98.0752 1188.11 96.1308 1186.37 Q94.2095 1184.64 91.1077 1184.64 Q88.9086 1184.64 86.4549 1185.4 Q84.0244 1186.17 81.2466 1187.72 L81.2466 1182.99 Q84.0707 1181.86 86.5243 1181.28 Q88.978 1180.7 91.0151 1180.7 Q96.3854 1180.7 99.5798 1183.39 Q102.774 1186.07 102.774 1190.56 Q102.774 1192.69 101.964 1194.61 Q101.177 1196.51 99.0706 1199.1 Q98.4919 1199.78 95.39 1202.99 Q92.2882 1206.19 86.6401 1211.95 Z\" fill=\"#000000\" fill-rule=\"evenodd\" fill-opacity=\"1\" /><path clip-path=\"url(#clip390)\" d=\"M93.3762 897.56 L81.5707 916.009 L93.3762 916.009 L93.3762 897.56 M92.1493 893.486 L98.0289 893.486 L98.0289 916.009 L102.959 916.009 L102.959 919.898 L98.0289 919.898 L98.0289 928.046 L93.3762 928.046 L93.3762 919.898 L77.7744 919.898 L77.7744 915.384 L92.1493 893.486 Z\" fill=\"#000000\" fill-rule=\"evenodd\" fill-opacity=\"1\" /><path clip-path=\"url(#clip390)\" d=\"M91.4317 621.062 Q88.2836 621.062 86.4318 623.215 Q84.6031 625.368 84.6031 629.118 Q84.6031 632.845 86.4318 635.02 Q88.2836 637.173 91.4317 637.173 Q94.5799 637.173 96.4085 635.02 Q98.2604 632.845 98.2604 629.118 Q98.2604 625.368 96.4085 623.215 Q94.5799 621.062 91.4317 621.062 M100.714 606.409 L100.714 610.669 Q98.9548 609.835 97.1493 609.396 Q95.3669 608.956 93.6076 608.956 Q88.978 608.956 86.5243 612.081 Q84.0938 615.206 83.7466 621.525 Q85.1123 619.511 87.1725 618.446 Q89.2327 617.359 91.7095 617.359 Q96.9178 617.359 99.927 620.53 Q102.959 623.678 102.959 629.118 Q102.959 634.442 99.8113 637.659 Q96.6632 640.877 91.4317 640.877 Q85.4364 640.877 82.2651 636.294 Q79.0938 631.687 79.0938 622.96 Q79.0938 614.766 82.9827 609.905 Q86.8716 605.021 93.4225 605.021 Q95.1817 605.021 96.9641 605.368 Q98.7696 605.715 100.714 606.409 Z\" fill=\"#000000\" fill-rule=\"evenodd\" fill-opacity=\"1\" /><path clip-path=\"url(#clip390)\" d=\"M91.1077 335.953 Q87.7743 335.953 85.8531 337.735 Q83.9549 339.518 83.9549 342.643 Q83.9549 345.768 85.8531 347.55 Q87.7743 349.332 91.1077 349.332 Q94.441 349.332 96.3623 347.55 Q98.2835 345.745 98.2835 342.643 Q98.2835 339.518 96.3623 337.735 Q94.4641 335.953 91.1077 335.953 M86.4318 333.962 Q83.4225 333.221 81.7327 331.161 Q80.066 329.101 80.066 326.138 Q80.066 321.995 83.0058 319.587 Q85.9688 317.18 91.1077 317.18 Q96.2697 317.18 99.2095 319.587 Q102.149 321.995 102.149 326.138 Q102.149 329.101 100.459 331.161 Q98.7928 333.221 95.8067 333.962 Q99.1863 334.749 101.061 337.041 Q102.959 339.333 102.959 342.643 Q102.959 347.666 99.8808 350.351 Q96.8252 353.036 91.1077 353.036 Q85.3901 353.036 82.3114 350.351 Q79.2559 347.666 79.2559 342.643 Q79.2559 339.333 81.154 337.041 Q83.0521 334.749 86.4318 333.962 M84.7188 326.578 Q84.7188 329.263 86.3855 330.768 Q88.0753 332.272 91.1077 332.272 Q94.1169 332.272 95.8067 330.768 Q97.5197 329.263 97.5197 326.578 Q97.5197 323.893 95.8067 322.388 Q94.1169 320.884 91.1077 320.884 Q88.0753 320.884 86.3855 322.388 Q84.7188 323.893 84.7188 326.578 Z\" fill=\"#000000\" fill-rule=\"evenodd\" fill-opacity=\"1\" /><path clip-path=\"url(#clip390)\" d=\"M51.6634 60.5889 L59.3023 60.5889 L59.3023 34.2233 L50.9921 35.89 L50.9921 31.6308 L59.256 29.9641 L63.9319 29.9641 L63.9319 60.5889 L71.5707 60.5889 L71.5707 64.5241 L51.6634 64.5241 L51.6634 60.5889 Z\" fill=\"#000000\" fill-rule=\"evenodd\" fill-opacity=\"1\" /><path clip-path=\"url(#clip390)\" d=\"M91.0151 33.0428 Q87.404 33.0428 85.5753 36.6076 Q83.7697 40.1492 83.7697 47.2788 Q83.7697 54.3853 85.5753 57.9501 Q87.404 61.4917 91.0151 61.4917 Q94.6493 61.4917 96.4548 57.9501 Q98.2835 54.3853 98.2835 47.2788 Q98.2835 40.1492 96.4548 36.6076 Q94.6493 33.0428 91.0151 33.0428 M91.0151 29.3391 Q96.8252 29.3391 99.8808 33.9456 Q102.959 38.5289 102.959 47.2788 Q102.959 56.0056 99.8808 60.6121 Q96.8252 65.1954 91.0151 65.1954 Q85.2049 65.1954 82.1262 60.6121 Q79.0707 56.0056 79.0707 47.2788 Q79.0707 38.5289 82.1262 33.9456 Q85.2049 29.3391 91.0151 29.3391 Z\" fill=\"#000000\" fill-rule=\"evenodd\" fill-opacity=\"1\" /></svg>\n"
      ]
     },
     "execution_count": 71,
     "metadata": {},
     "output_type": "execute_result"
    }
   ],
   "source": [
    "plot(xlims=(0,10), ylims=(0, 10))\n",
    "\n",
    "\n",
    "p1 = Particle([2, 2], 1)\n",
    "p2 = Particle([6, 3], 1)\n",
    "particles = [p1, p2]\n",
    "\n",
    "Δt = 0.001\n",
    "v_old = [[0, 1], [-1, 1]]\n",
    "\n",
    "x_old = [p1.position, p2.position]\n",
    "A_n = LJAccels(particles)\n",
    "x_n   = x_old .+ v0 .* Δt + 0.5* A_n * Δt^2\n"
   ]
  },
  {
   "cell_type": "markdown",
   "id": "30321135",
   "metadata": {
    "slideshow": {
     "slide_type": "slide"
    }
   },
   "source": [
    "## Alternative Methods for Molecular dynamics\n",
    "\n",
    "Verlet method here uses fixed time step length, but there are methods such as the impulse or r-Respa method that can adapt time step size\n",
    "\n",
    "## Contraints to increase stability\n",
    "There are also methods to constrain/freeze high frequency modes such as the SHAKE or RATTLE method that allow for larger time step in our integration"
   ]
  }
 ],
 "metadata": {
  "celltoolbar": "Slideshow",
  "kernelspec": {
   "display_name": "Julia 1.8.3",
   "language": "julia",
   "name": "julia-1.8"
  },
  "language_info": {
   "file_extension": ".jl",
   "mimetype": "application/julia",
   "name": "julia",
   "version": "1.8.3"
  }
 },
 "nbformat": 4,
 "nbformat_minor": 5
}
